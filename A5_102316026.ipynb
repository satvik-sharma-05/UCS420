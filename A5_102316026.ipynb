{
 "cells": [
  {
   "cell_type": "markdown",
   "id": "ca751b72",
   "metadata": {},
   "source": [
    "## Q.1 For the array gfg = np.matrix('[4, 1, 9; 12, 3, 1; 4, 5, 6]'), Find\n",
    "i. Sum of all elements\n",
    "\n",
    "\n",
    "ii. Sum of all elements row-wise\n",
    "\n",
    "\n",
    "iii. Sum of all elements column-wise "
   ]
  },
  {
   "cell_type": "code",
   "execution_count": 1,
   "id": "0794b634",
   "metadata": {},
   "outputs": [
    {
     "name": "stdout",
     "output_type": "stream",
     "text": [
      "Sum of all elements: 45\n",
      "Row-wise sum: [[14]\n",
      " [16]\n",
      " [15]]\n",
      "Column-wise sum: [[20  9 16]]\n"
     ]
    }
   ],
   "source": [
    "import numpy as np\n",
    "\n",
    "# Define the matrix\n",
    "gfg = np.matrix('[4, 1, 9; 12, 3, 1; 4, 5, 6]')\n",
    "\n",
    "# Compute required sums\n",
    "print(\"Sum of all elements:\", np.sum(gfg))\n",
    "print(\"Row-wise sum:\", np.sum(gfg, axis=1))\n",
    "print(\"Column-wise sum:\", np.sum(gfg, axis=0))"
   ]
  },
  {
   "cell_type": "markdown",
   "id": "7de6f9c4",
   "metadata": {},
   "source": [
    "## Q.2 (a)For the array: array = np.array([10, 52, 62, 16, 16, 54, 453]), find\n",
    "i. Sorted array\n",
    "ii. Indices of sorted array\n",
    "iii. 4 smallest elements\n",
    "iv. 5 largest elements\n",
    " ## (b) For the array: array = np.array([1.0, 1.2, 2.2, 2.0, 3.0, 2.0]), find\n",
    "i. Integer elements only\n",
    "ii. Float elements only "
   ]
  },
  {
   "cell_type": "code",
   "execution_count": 3,
   "id": "0c76a917",
   "metadata": {},
   "outputs": [
    {
     "name": "stdout",
     "output_type": "stream",
     "text": [
      "a)\n",
      "Sorted array: [ 10  16  16  52  54  62 453]\n",
      "Indices of sorted array: [0 3 4 1 5 2 6]\n",
      "4 smallest elements: [10 16 16 52]\n",
      "5 largest elements: [ 16  52  54  62 453]\n"
     ]
    }
   ],
   "source": [
    "import numpy as np\n",
    "print(\"a)\")\n",
    "array = np.array([10, 52, 62, 16, 16, 54, 453])\n",
    "\n",
    "# Sorting operations\n",
    "sorted_array = np.sort(array)\n",
    "sorted_indices = np.argsort(array)\n",
    "smallest_4 = np.sort(array)[:4]  # First 4 elements of sorted array\n",
    "largest_5 = np.sort(array)[-5:]  # Last 5 elements of sorted array\n",
    "\n",
    "print(\"Sorted array:\", sorted_array)\n",
    "print(\"Indices of sorted array:\", sorted_indices)\n",
    "print(\"4 smallest elements:\", smallest_4)\n",
    "print(\"5 largest elements:\", largest_5)\n",
    "\n"
   ]
  },
  {
   "cell_type": "code",
   "execution_count": null,
   "id": "a042dd31",
   "metadata": {},
   "outputs": [],
   "source": [
    "import numpy as np\n",
    "print(\"b)\")\n",
    "\n",
    "array = np.array([1.0, 1.2, 2.2, 2.0, 3.0, 2.0])\n",
    "\n",
    "# Extracting integer elements\n",
    "int_elements = array[array == array.astype(int)]\n",
    "\n",
    "# Extracting float elements\n",
    "float_elements = array[array != array.astype(int)]\n",
    "\n",
    "print(\"Integer elements:\", int_elements)\n",
    "print(\"Float elements:\", float_elements)"
   ]
  },
  {
   "cell_type": "markdown",
   "id": "432c6b03",
   "metadata": {},
   "source": [
    "## Q.3 You are given a weekly sales dataset and need to perform various operations using NumPy broadcasting.\n",
    "a) Generate your unique sales dataset:\n",
    "\n",
    "\n",
    " Take the sum of the ASCII values of the initials of your first and last name. Call this value X. (If your initials are A B → ASCII sum = 65+ 66 = 131 → sales = [131, 181, 231, 281, 331].)\n",
    "\n",
    "\n",
    " Create a NumPy array sales with values [X, X+50, X+100, X+150,X+200].\n",
    "\n",
    "b) Compute your personalized tax rate as ((X % 5) + 5) / 100.\n",
    "\n",
    "\n",
    " Use broadcasting to apply this tax rate to each sales value.\n",
    "\n",
    "\n",
    "c) Adjust sales based on discount:\n",
    "\n",
    "\n",
    " If sales < X+100, apply a 5% discount.\n",
    "\n",
    "\n",
    " If sales >= X+100, apply a 10% discount.\n",
    "\n",
    "\n",
    "d) Expand sales data for multiple weeks:\n",
    "\n",
    "\n",
    " Create a 3×5 matrix representing three weeks of sales by stacking sales three times using broadcasting.\n",
    "\n",
    "\n",
    " Increase sales by 2% per week using element-wise broadcasting. "
   ]
  },
  {
   "cell_type": "code",
   "execution_count": null,
   "id": "9fb8852b",
   "metadata": {},
   "outputs": [],
   "source": [
    "import numpy as np\n",
    "\n",
    "# Compute X using ASCII sum of initials\n",
    "X = sum(ord(char) for char in \"Satvik Sharma\" if char.isalpha())\n",
    "\n",
    "# Create sales array\n",
    "sales = np.array([X, X+50, X+100, X+150, X+200])\n",
    "\n",
    "# Compute tax rate\n",
    "tax_rate = ((X % 5) + 5) / 100\n",
    "taxed_sales = sales - (sales * tax_rate)\n",
    "\n",
    "# Apply discount conditions\n",
    "discounted_sales = np.where(sales < X+100, sales * 0.95, sales * 0.90)\n",
    "\n",
    "# Expand to 3 weeks and apply 2% increase per week\n",
    "weekly_sales = np.vstack([sales, sales * 1.02, sales * 1.04])\n",
    "\n",
    "print(\"Sales Data:\", sales)\n",
    "print(\"Tax Rate:\", tax_rate)\n",
    "print(\"Taxed Sales:\", taxed_sales)\n",
    "print(\"Discounted Sales:\", discounted_sales)\n",
    "print(\"Weekly Sales Matrix:\\n\", weekly_sales)"
   ]
  },
  {
   "cell_type": "markdown",
   "id": "3ff40880",
   "metadata": {},
   "source": [
    "## Q4. Generate x values using np.linspace() from -10 to 10 with 100 points. Use each function from the list below and compute y values using NumPy:\n",
    " Y = x^2\n",
    "\n",
    "\n",
    " Y = sin(x)\n",
    "\n",
    "\n",
    " Y = ex\n",
    "\n",
    "\n",
    " Y = log(|x| + 1)\n",
    "\n",
    "\n",
    "Plot the chosen function using Matplotlib. Add title, labels, and grid for clarity\n",
    "\n"
   ]
  },
  {
   "cell_type": "code",
   "execution_count": 8,
   "id": "0d730947",
   "metadata": {},
   "outputs": [
    {
     "name": "stdout",
     "output_type": "stream",
     "text": [
      "[-10.          -9.7979798   -9.5959596   -9.39393939  -9.19191919\n",
      "  -8.98989899  -8.78787879  -8.58585859  -8.38383838  -8.18181818\n",
      "  -7.97979798  -7.77777778  -7.57575758  -7.37373737  -7.17171717\n",
      "  -6.96969697  -6.76767677  -6.56565657  -6.36363636  -6.16161616\n",
      "  -5.95959596  -5.75757576  -5.55555556  -5.35353535  -5.15151515\n",
      "  -4.94949495  -4.74747475  -4.54545455  -4.34343434  -4.14141414\n",
      "  -3.93939394  -3.73737374  -3.53535354  -3.33333333  -3.13131313\n",
      "  -2.92929293  -2.72727273  -2.52525253  -2.32323232  -2.12121212\n",
      "  -1.91919192  -1.71717172  -1.51515152  -1.31313131  -1.11111111\n",
      "  -0.90909091  -0.70707071  -0.50505051  -0.3030303   -0.1010101\n",
      "   0.1010101    0.3030303    0.50505051   0.70707071   0.90909091\n",
      "   1.11111111   1.31313131   1.51515152   1.71717172   1.91919192\n",
      "   2.12121212   2.32323232   2.52525253   2.72727273   2.92929293\n",
      "   3.13131313   3.33333333   3.53535354   3.73737374   3.93939394\n",
      "   4.14141414   4.34343434   4.54545455   4.74747475   4.94949495\n",
      "   5.15151515   5.35353535   5.55555556   5.75757576   5.95959596\n",
      "   6.16161616   6.36363636   6.56565657   6.76767677   6.96969697\n",
      "   7.17171717   7.37373737   7.57575758   7.77777778   7.97979798\n",
      "   8.18181818   8.38383838   8.58585859   8.78787879   8.98989899\n",
      "   9.19191919   9.39393939   9.5959596    9.7979798   10.        ]\n"
     ]
    }
   ],
   "source": [
    "import numpy as np\n",
    "import matplotlib.pyplot as plt\n",
    "\n",
    "# Generate x values\n",
    "x = np.linspace(-10, 10, 100)\n",
    "print(x)\n",
    "# Compute y values for different functions\n",
    "y_x2 = x ** 2\n",
    "y_sin = np.sin(x)\n",
    "y_exp = np.exp(x)\n",
    "y_log = np.log(np.abs(x) + 1)\n",
    "\n"
   ]
  },
  {
   "cell_type": "code",
   "execution_count": 9,
   "id": "334fce66",
   "metadata": {},
   "outputs": [
    {
     "data": {
      "image/png": "[encoded data removed]",
      "text/plain": [
       "<Figure size 1000x600 with 1 Axes>"
      ]
     },
     "metadata": {},
     "output_type": "display_data"
    }
   ],
   "source": [
    "# Plot all functions\n",
    "plt.figure(figsize=(10, 6))\n",
    "plt.plot(x, y_x2, label=\"y = x²\", linestyle='dashed')\n",
    "plt.plot(x, y_sin, label=\"y = sin(x)\")\n",
    "plt.plot(x, y_exp, label=\"y = e^x\")\n",
    "plt.plot(x, y_log, label=\"y = log(|x|+1)\", linestyle='dotted')\n",
    "\n",
    "plt.title(\"Different Functions using NumPy\")\n",
    "plt.xlabel(\"x values\")\n",
    "plt.ylabel(\"y values\")\n",
    "plt.legend()\n",
    "plt.grid()\n",
    "plt.show()\n"
   ]
  }
 ],
 "metadata": {
  "kernelspec": {
   "display_name": "Python 3",
   "language": "python",
   "name": "python3"
  },
  "language_info": {
   "codemirror_mode": {
    "name": "ipython",
    "version": 3
   },
   "file_extension": ".py",
   "mimetype": "text/x-python",
   "name": "python",
   "nbconvert_exporter": "python",
   "pygments_lexer": "ipython3",
   "version": "3.11.9"
  }
 },
 "nbformat": 4,
 "nbformat_minor": 5
}

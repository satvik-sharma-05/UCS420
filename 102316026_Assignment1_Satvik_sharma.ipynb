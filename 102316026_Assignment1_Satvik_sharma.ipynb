{
 "cells": [
  {
   "cell_type": "markdown",
   "id": "a17d5ff7-a2de-4538-a580-38a3c2b20674",
   "metadata": {},
   "source": [
    "**Assingment 1.1**: WAP to print your name three times"
   ]
  },
  {
   "cell_type": "code",
   "execution_count": 1,
   "id": "f09c9ffc-86a9-4c45-9817-b340d11450d7",
   "metadata": {},
   "outputs": [
    {
     "name": "stdout",
     "output_type": "stream",
     "text": [
      "Satvik Sharma\n",
      "Satvik Sharma\n",
      "Satvik Sharma\n"
     ]
    }
   ],
   "source": [
    "for i in range(3):\n",
    "    print(\"Satvik Sharma\")"
   ]
  },
  {
   "cell_type": "markdown",
   "id": "c4bdcb6d-6af9-4b7e-8822-d0762089c8cc",
   "metadata": {},
   "source": [
    "**Assingment 2.1**: WAP to add three numbers and print the result."
   ]
  },
  {
   "cell_type": "code",
   "execution_count": 2,
   "id": "3ab88825-de27-48db-86b5-9be45217cdf3",
   "metadata": {},
   "outputs": [
    {
     "name": "stdout",
     "output_type": "stream",
     "text": [
      "10+220+30 --> 260\n"
     ]
    }
   ],
   "source": [
    "a = 10\n",
    "b = 220\n",
    "c = 30\n",
    "d = a+b+c\n",
    "print(f\"{a}+{b}+{c} --> {d}\")"
   ]
  },
  {
   "cell_type": "markdown",
   "id": "21b56d65-2bbb-45bb-9da5-35a6980df940",
   "metadata": {},
   "source": [
    "**Assingment 2.2**: WAP to concatinate three strings and print the result."
   ]
  },
  {
   "cell_type": "code",
   "execution_count": 3,
   "id": "9a89128d-3086-476b-9cd1-263ffeace1c2",
   "metadata": {},
   "outputs": [
    {
     "name": "stdout",
     "output_type": "stream",
     "text": [
      "Hello +Satvik + Sharma --> Hello Satvik Sharma\n"
     ]
    }
   ],
   "source": [
    "hello = \"Hello \"\n",
    "a = \"Satvik\"\n",
    "b = \" Sharma\"\n",
    "final = hello+a+b\t\n",
    "print (f\"{hello}+{a} +{b} --> {final}\")"
   ]
  },
  {
   "cell_type": "markdown",
   "id": "dff4832b-d66a-44f4-9caa-d647e92fe8ee",
   "metadata": {},
   "source": [
    "**Assingment 4.1**: WAP to print the table of 7, 9."
   ]
  },
  {
   "cell_type": "code",
   "execution_count": 4,
   "id": "88bfd994-0116-4d09-bdee-fb50523e6ddc",
   "metadata": {},
   "outputs": [
    {
     "name": "stdout",
     "output_type": "stream",
     "text": [
      "7 X 0 = 0\n",
      "7 X 1 = 7\n",
      "7 X 2 = 14\n",
      "7 X 3 = 21\n",
      "7 X 4 = 28\n",
      "7 X 5 = 35\n",
      "7 X 6 = 42\n",
      "7 X 7 = 49\n",
      "7 X 8 = 56\n",
      "7 X 9 = 63\n",
      "7 X 10 = 70\n"
     ]
    }
   ],
   "source": [
    "for i in range(11):\n",
    "    print(f\"7 X {i} = {7*i}\")"
   ]
  },
  {
   "cell_type": "code",
   "execution_count": 5,
   "id": "13e2a3ab-de03-49a0-8c5a-d2b89150a3ff",
   "metadata": {},
   "outputs": [
    {
     "name": "stdout",
     "output_type": "stream",
     "text": [
      "9 X 0 = 0\n",
      "9 X 1 = 9\n",
      "9 X 2 = 18\n",
      "9 X 3 = 27\n",
      "9 X 4 = 36\n",
      "9 X 5 = 45\n",
      "9 X 6 = 54\n",
      "9 X 7 = 63\n",
      "9 X 8 = 72\n",
      "9 X 9 = 81\n",
      "9 X 10 = 90\n"
     ]
    }
   ],
   "source": [
    "for i in range(11):\n",
    "    print(f\"9 X {i} = {9*i}\")"
   ]
  },
  {
   "cell_type": "markdown",
   "id": "826ae456-92c3-48ef-9865-d8277e4e72e1",
   "metadata": {},
   "source": [
    "**Assingment 4.2**: WAP to print the table of n and n is given by user."
   ]
  },
  {
   "cell_type": "code",
   "execution_count": 6,
   "id": "7e579433-eba7-4295-b260-9465f924ac6b",
   "metadata": {},
   "outputs": [
    {
     "name": "stdout",
     "output_type": "stream",
     "text": [
      "10 X 0 = 0\n",
      "10 X 1 = 10\n",
      "10 X 2 = 20\n",
      "10 X 3 = 30\n",
      "10 X 4 = 40\n",
      "10 X 5 = 50\n",
      "10 X 6 = 60\n",
      "10 X 7 = 70\n",
      "10 X 8 = 80\n",
      "10 X 9 = 90\n",
      "10 X 10 = 100\n"
     ]
    }
   ],
   "source": [
    "n = int(input(\"Enter the number\"))\n",
    "for i in range(11):\n",
    "    print(f\"{n} X {i} = {n*i}\")"
   ]
  },
  {
   "cell_type": "markdown",
   "id": "d9bd598e-c5e5-417f-95a6-f25bc8da69ab",
   "metadata": {},
   "source": [
    "**Assingment 4.3**: WAP to add all the numbers from 1 to n and n is given by user."
   ]
  },
  {
   "cell_type": "code",
   "execution_count": 7,
   "id": "77d822a8-78f1-4095-ad82-b644cbf14a75",
   "metadata": {},
   "outputs": [
    {
     "name": "stdout",
     "output_type": "stream",
     "text": [
      "3486.0\n"
     ]
    }
   ],
   "source": [
    "n = int(input(\"Enter the number\"))\n",
    "result = n*(n+1)/2\n",
    "print(result)"
   ]
  },
  {
   "cell_type": "markdown",
   "id": "04cc0dd4-e30d-4cc7-8c75-8920200a271f",
   "metadata": {},
   "source": [
    "**Assingment 5.1**: WAP to find max amoung three numbers and input from user. [Try max() function]"
   ]
  },
  {
   "cell_type": "code",
   "execution_count": 8,
   "id": "d7bd36f8-4414-4e83-a22f-1cfda069c78b",
   "metadata": {},
   "outputs": [
    {
     "name": "stdout",
     "output_type": "stream",
     "text": [
      "[1, 2, 3]\n",
      "3\n"
     ]
    }
   ],
   "source": [
    "list1 = []\n",
    "for i in range(3):\n",
    "    list1.append(int(input(f\"Enter the {i}th number\")))\n",
    "print(list1)\n",
    "print(max(list1))\n"
   ]
  },
  {
   "cell_type": "markdown",
   "id": "96aec73b-c040-4fa6-a2cd-f33e093149c2",
   "metadata": {},
   "source": [
    "**Assingment 5.2**: WAP to add all numbers divisible by 7 and 9 from 1 to n and n is given by the user."
   ]
  },
  {
   "cell_type": "code",
   "execution_count": 9,
   "id": "257a1d55-17b3-4c5d-94a9-b4ef970724f5",
   "metadata": {},
   "outputs": [
    {
     "name": "stdout",
     "output_type": "stream",
     "text": [
      "0\n"
     ]
    }
   ],
   "source": [
    "n = int(input(\"Enter a No: \"))\n",
    "sum=0\n",
    "for i in range(n+1):\n",
    "    if(i%7==0 or i%9==0):\n",
    "        sum+=i\n",
    "print(sum)\n"
   ]
  },
  {
   "cell_type": "markdown",
   "id": "632024d8-b671-4c95-b9de-0b75b56aaa31",
   "metadata": {},
   "source": [
    "**Assingment 5.3**: WAP to add all prime numbers from 1 to n and n is given by the user."
   ]
  },
  {
   "cell_type": "code",
   "execution_count": 10,
   "id": "02cd7057-e261-41e1-8030-d0512701e30a",
   "metadata": {},
   "outputs": [
    {
     "name": "stdout",
     "output_type": "stream",
     "text": [
      "17\n"
     ]
    }
   ],
   "source": [
    "n = int(input(\"Enter a No: \"))\n",
    "sum =0 \n",
    "for i in range(2, n+1):\n",
    "    flag =0\n",
    "    for div in range(2, int(i**0.5) + 1):\n",
    "    \tif  i%div == 0:\n",
    "    \t\tflag =1\n",
    "    \t\tbreak\n",
    "    if flag ==0:\n",
    "    \tsum+=i\n",
    "print(sum)"
   ]
  },
  {
   "cell_type": "markdown",
   "id": "5fef8c7d-0c4d-434a-9b84-7bd94ac7f103",
   "metadata": {},
   "source": [
    "**Assingment 6.1**: WAP using function that add all odd numbers from 1 to n, n is given by the user."
   ]
  },
  {
   "cell_type": "code",
   "execution_count": 11,
   "id": "2ca932d2-6d12-40b9-9186-44a39630b0b4",
   "metadata": {},
   "outputs": [
    {
     "name": "stdout",
     "output_type": "stream",
     "text": [
      "9\n"
     ]
    }
   ],
   "source": [
    "def odd(n):\n",
    "    sum=0\n",
    "    for i in range(n+1):\n",
    "        if(i%2!=0):\n",
    "            sum+=i\n",
    "    return sum\n",
    "result = odd(5)\n",
    "print(result)\n"
   ]
  },
  {
   "cell_type": "markdown",
   "id": "391b2289-eebf-42f0-a28d-19b9a6af8b7b",
   "metadata": {},
   "source": [
    "**Assingment 6.2**: WAP using function that add all prime numbers from 1 to n, n given by the user."
   ]
  },
  {
   "cell_type": "code",
   "execution_count": 12,
   "id": "498212e4-56ba-4816-8be0-9a60b075980b",
   "metadata": {},
   "outputs": [
    {
     "name": "stdout",
     "output_type": "stream",
     "text": [
      "10\n"
     ]
    }
   ],
   "source": [
    "def odd(n):\n",
    "    sum=0\n",
    "    for i in range(2, n+1):\n",
    "        flag=0\n",
    "        for div in range(2, int(i**0.5)+1):\n",
    "            if(i%div==0):\n",
    "                flag=1\n",
    "                break\n",
    "        if(flag==0):\n",
    "            sum+=i\n",
    "    return sum\n",
    "result = odd(5)\n",
    "print(result)\n"
   ]
  }
 ],
 "metadata": {
  "kernelspec": {
   "display_name": "base",
   "language": "python",
   "name": "python3"
  },
  "language_info": {
   "codemirror_mode": {
    "name": "ipython",
    "version": 3
   },
   "file_extension": ".py",
   "mimetype": "text/x-python",
   "name": "python",
   "nbconvert_exporter": "python",
   "pygments_lexer": "ipython3",
   "version": "3.12.7"
  }
 },
 "nbformat": 4,
 "nbformat_minor": 5
}
